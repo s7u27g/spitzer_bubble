{
 "cells": [
  {
   "cell_type": "markdown",
   "metadata": {},
   "source": [
    "# RGB fits を作成します。\n",
    "- [n2-tools](https://github.com/nanten2/n2-tools/tree/master/doc) の使い方はこちら"
   ]
  },
  {
   "cell_type": "code",
   "execution_count": 1,
   "metadata": {},
   "outputs": [
    {
     "name": "stdout",
     "output_type": "stream",
     "text": [
      "\u001b[37m[10:50:49,906]\u001b[0m\u001b[34m INFO: python 3.6.9\u001b[0m\n",
      "\u001b[37m[10:50:49,908]\u001b[0m\u001b[34m INFO: n2-tools 0.0.26\u001b[0m\n"
     ]
    }
   ],
   "source": [
    "import pathlib\n",
    "import numpy\n",
    "import astropy.io.fits\n",
    "import PIL\n",
    "import n2"
   ]
  },
  {
   "cell_type": "markdown",
   "metadata": {},
   "source": [
    "# 関数の定義\n",
    "- 今回は内容が膨大なので、実験コードは下に載せることにします。\n",
    "- get_fits_paths: 銀経を渡すと、その銀経を含む FITS の Path を list で返します。(MIPSGAL と GLIMPSE で分けています)<br>銀経は 3 の倍数推奨\n",
    "- _nparr_sum, _new_header: make_rgb_fits で使用します。\n",
    "- make_rgb_fits: get_fits_paths で取得した path をつなげて RGB FITS にして保存します。"
   ]
  },
  {
   "cell_type": "code",
   "execution_count": 2,
   "metadata": {},
   "outputs": [],
   "source": [
    "def get_fits_paths(l):\n",
    "    l = (lambda l: (l//3+1)*3 if l%3 > 1.5 else (l//3)*3)(l)\n",
    "    path_mips = pathlib.Path('../data/raw/mipsgal/').expanduser().resolve()\n",
    "    path_glim = pathlib.Path('../data/raw/glimpse/').expanduser().resolve() \n",
    "    \n",
    "    paths_mips = [\n",
    "        path_mips/'mips24/MG{}0n005_024.fits'.format('0'*(3-len(str(l-1)))+str(l-1)),\n",
    "        path_mips/'mips24/MG{}0p005_024.fits'.format('0'*(3-len(str(l-1)))+str(l-1)),\n",
    "        path_mips/'mips24/MG{}0n005_024.fits'.format('0'*(3-len(str(l)))+str(l)),\n",
    "        path_mips/'mips24/MG{}0p005_024.fits'.format('0'*(3-len(str(l)))+str(l)),\n",
    "        path_mips/'mips24/MG{}0n005_024.fits'.format('0'*(3-len(str(l+1)))+str(l+1)),\n",
    "        path_mips/'mips24/MG{}0p005_024.fits'.format('0'*(3-len(str(l+1)))+str(l+1)),\n",
    "    ]\n",
    "    \n",
    "    paths_glim = [\n",
    "        path_glim/'irac1/GLM_{}00+0000_mosaic_I1.fits'.format('0'*(3-len(str(l)))+str(l)),\n",
    "        path_glim/'irac4/GLM_{}00+0000_mosaic_I4.fits'.format('0'*(3-len(str(l)))+str(l)),\n",
    "    ]\n",
    "    \n",
    "    if l == 0:\n",
    "        paths_mips[0] = path_mips/'mips24/MG3590n005_024.fits'\n",
    "        paths_mips[1] = path_mips/'mips24/MG3590p005_024.fits'\n",
    "    else:\n",
    "        pass\n",
    "    \n",
    "    return paths_mips, paths_glim"
   ]
  },
  {
   "cell_type": "code",
   "execution_count": 3,
   "metadata": {},
   "outputs": [],
   "source": [
    "def _nparr_sum(nparr1, nparr2):\n",
    "    r1 = numpy.nan_to_num(nparr1)\n",
    "    r2 = numpy.nan_to_num(nparr2)\n",
    "    r1_bool = numpy.where(r1==0, False, True)\n",
    "    r2_bool = numpy.where(r2==0, False, True)\n",
    "    r_bool = numpy.logical_and(r1_bool, r2_bool)\n",
    "    r = numpy.where(r_bool==True, (r1+r2)/2, r1+r2)\n",
    "    return r\n",
    "\n",
    "def _new_header(header):\n",
    "    header.pop('HISTORY*')\n",
    "    header.pop('N2HASH')\n",
    "    return header"
   ]
  },
  {
   "cell_type": "code",
   "execution_count": 4,
   "metadata": {},
   "outputs": [],
   "source": [
    "def make_rgb_fits(paths_mips, paths_glim, save_path='../data/interim/gal'):\n",
    "    save_path = pathlib.Path(save_path).expanduser().resolve()\n",
    "    save_path = save_path/('spitzer_' + paths_glim[1].name[4:14] + '_rgb')\n",
    "    save_path.mkdir(parents=True, exist_ok=True)\n",
    "    \n",
    "    rs_hdu_raw = [n2.open_fits(i) for i in paths_mips]\n",
    "    g_hdu_raw = n2.open_fits(paths_glim[1])\n",
    "    b_hdu_raw = n2.open_fits(paths_glim[0])\n",
    "    \n",
    "    header = g_hdu_raw.hdu.header.copy()\n",
    "    rs_hdu = [i.regrid(header) for i in rs_hdu_raw]\n",
    "    #g_hdu = g_hdu_raw.regrid(header)\n",
    "    g_hdu = g_hdu_raw\n",
    "    b_hdu = b_hdu_raw.regrid(header)\n",
    "    \n",
    "    r1 = _nparr_sum(rs_hdu[0].data, rs_hdu[1].data)\n",
    "    r2 = _nparr_sum(rs_hdu[2].data, rs_hdu[3].data)\n",
    "    r3 = _nparr_sum(rs_hdu[4].data, rs_hdu[5].data)\n",
    "    r4 = _nparr_sum(r1, r2)\n",
    "    r = _nparr_sum(r3, r4)    \n",
    "    g = numpy.nan_to_num(g_hdu.data)\n",
    "    b = numpy.nan_to_num(b_hdu.data)\n",
    "    \n",
    "    r_hdu = astropy.io.fits.PrimaryHDU(r, _new_header(rs_hdu[0].header))\n",
    "    g_hdu = astropy.io.fits.PrimaryHDU(g, _new_header(g_hdu.header))\n",
    "    b_hdu = astropy.io.fits.PrimaryHDU(b, _new_header(b_hdu.header))    \n",
    "    r_hdu_list = astropy.io.fits.HDUList([r_hdu])\n",
    "    g_hdu_list = astropy.io.fits.HDUList([g_hdu])\n",
    "    b_hdu_list = astropy.io.fits.HDUList([b_hdu])\n",
    "    r_hdu_list.writeto(save_path/'r.fits', overwrite=True)\n",
    "    g_hdu_list.writeto(save_path/'g.fits', overwrite=True)\n",
    "    b_hdu_list.writeto(save_path/'b.fits', overwrite=True)\n",
    "    \n",
    "    return"
   ]
  },
  {
   "cell_type": "markdown",
   "metadata": {},
   "source": [
    "# 使用例: 一気に全部作っちゃう"
   ]
  },
  {
   "cell_type": "code",
   "execution_count": 5,
   "metadata": {},
   "outputs": [],
   "source": [
    "l = [i for i in range(0, 66, 3)]\n",
    "for i in l:\n",
    "    make_rgb_fits(*get_fits_paths(i))\n",
    "    \n",
    "l = [i for i in range(297, 360, 3)]\n",
    "for i in l:\n",
    "    make_rgb_fits(*get_fits_paths(i))"
   ]
  },
  {
   "cell_type": "code",
   "execution_count": 6,
   "metadata": {},
   "outputs": [],
   "source": [
    "rgb = astropy.io.fits.open('../data/interim/gal/spitzer_gal_01200+0000_rgb.fits')[0]\n",
    "r = numpy.where(rgb.data[0]>255, 255, rgb.data[0])\n",
    "r = numpy.where(r<0, 0, r)\n",
    "g = numpy.where(rgb.data[1]>255, 255, rgb.data[1])\n",
    "g = numpy.where(g<0, 0, g)\n",
    "b = numpy.where(rgb.data[2]>255, 255, rgb.data[2])\n",
    "b = numpy.where(b<0, 0, b)\n",
    "rgb = numpy.stack([r, g, b], 2)\n",
    "im = PIL.Image.fromarray(numpy.uint8(rgb))\n",
    "#im"
   ]
  },
  {
   "cell_type": "markdown",
   "metadata": {},
   "source": [
    "# これより下、上の関数を作るために実験など繰り返した痕跡"
   ]
  },
  {
   "cell_type": "markdown",
   "metadata": {},
   "source": [
    "### 波長毎の座標範囲(l)\n",
    "- mips24: 75 - 105\n",
    "- irac1 : 75 - 105\n",
    "- irac4 : 75 - 105"
   ]
  },
  {
   "cell_type": "code",
   "execution_count": 7,
   "metadata": {},
   "outputs": [],
   "source": [
    "path_mips = pathlib.Path('~/data/spitzer/mipsgal/').expanduser().resolve()\n",
    "path_glim = pathlib.Path('~/data/spitzer/glimpse/').expanduser().resolve()\n",
    "files_mips = [\n",
    "    'mips24/MG0080n005_024.fits',\n",
    "    'mips24/MG0080p005_024.fits',\n",
    "    'mips24/MG0090n005_024.fits',\n",
    "    'mips24/MG0090p005_024.fits',\n",
    "    'mips24/MG0100n005_024.fits',\n",
    "    'mips24/MG0100p005_024.fits',\n",
    "]\n",
    "files_glim = [\n",
    "    'irac1/GLM_00900+0000_mosaic_I1.fits',\n",
    "    'irac4/GLM_00900+0000_mosaic_I4.fits',\n",
    "]\n",
    "r_1 = n2.open_fits(path_mips/files_mips[0])\n",
    "r_2 = n2.open_fits(path_mips/files_mips[1])\n",
    "r_3 = n2.open_fits(path_mips/files_mips[2])\n",
    "r_4 = n2.open_fits(path_mips/files_mips[3])\n",
    "r_5 = n2.open_fits(path_mips/files_mips[4])\n",
    "r_6 = n2.open_fits(path_mips/files_mips[5])\n",
    "\n",
    "g = n2.open_fits(path_glim/files_glim[1])\n",
    "b = n2.open_fits(path_glim/files_glim[0])"
   ]
  },
  {
   "cell_type": "code",
   "execution_count": 8,
   "metadata": {},
   "outputs": [],
   "source": [
    "header = g.hdu.header\n",
    "data = g.hdu.data\n",
    "#header\n",
    "#data"
   ]
  },
  {
   "cell_type": "code",
   "execution_count": 9,
   "metadata": {},
   "outputs": [],
   "source": [
    "header1 = g.header.copy()\n",
    "\n",
    "r_1_re = r_1.regrid(header1)\n",
    "r_2_re = r_2.regrid(header1)\n",
    "r_3_re = r_3.regrid(header1)\n",
    "r_4_re = r_4.regrid(header1)\n",
    "r_5_re = r_5.regrid(header1)\n",
    "r_6_re = r_6.regrid(header1)\n",
    "\n",
    "g_re = g.regrid(header1)\n",
    "b_re = b.regrid(header1)"
   ]
  },
  {
   "cell_type": "code",
   "execution_count": 10,
   "metadata": {},
   "outputs": [],
   "source": [
    "PIL.Image.fromarray(\n",
    "    numpy.uint8(\n",
    "        numpy.nan_to_num(r_1_re.data) + \\\n",
    "        numpy.nan_to_num(r_2_re.data) + \\\n",
    "        numpy.nan_to_num(r_3_re.data) + \\\n",
    "        numpy.nan_to_num(r_4_re.data) + \\\n",
    "        numpy.nan_to_num(r_5_re.data) + \\\n",
    "        numpy.nan_to_num(r_6_re.data)\n",
    "    )\n",
    ")"
   ]
  },
  {
   "cell_type": "code",
   "execution_count": 11,
   "metadata": {},
   "outputs": [],
   "source": [
    "a = numpy.nan_to_num(r_1_re.data)\n",
    "a = numpy.where(a==0, False, True)\n",
    "b = numpy.nan_to_num(r_2_re.data)\n",
    "b = numpy.where(b==0, False, True)\n",
    "c = numpy.logical_and(a, b)\n",
    "#c = numpy.where(c==False, 0, 255)\n",
    "#PIL.Image.fromarray(numpy.uint8(a))\n",
    "#PIL.Image.fromarray(numpy.uint8(b))\n",
    "#PIL.Image.fromarray(numpy.uint8(c))\n",
    "\n",
    "test1 = numpy.nan_to_num(r_1_re.data) + numpy.nan_to_num(r_2_re.data)\n",
    "test1 = numpy.where(c==True, test1/2, test1)\n",
    "#PIL.Image.fromarray(numpy.uint8(test1))"
   ]
  },
  {
   "cell_type": "code",
   "execution_count": 12,
   "metadata": {},
   "outputs": [],
   "source": [
    "a = numpy.nan_to_num(r_3_re.data)\n",
    "a = numpy.where(a==0, False, True)\n",
    "b = numpy.nan_to_num(r_4_re.data)\n",
    "b = numpy.where(b==0, False, True)\n",
    "c = numpy.logical_and(a, b)\n",
    "#c = numpy.where(c==False, 0, 255)\n",
    "#PIL.Image.fromarray(numpy.uint8(a))\n",
    "#PIL.Image.fromarray(numpy.uint8(b))\n",
    "#PIL.Image.fromarray(numpy.uint8(c))\n",
    "\n",
    "test2 = numpy.nan_to_num(r_3_re.data) + numpy.nan_to_num(r_4_re.data)\n",
    "test2 = numpy.where(c==True, test2/2, test2)\n",
    "#PIL.Image.fromarray(numpy.uint8(test2))"
   ]
  },
  {
   "cell_type": "code",
   "execution_count": 13,
   "metadata": {},
   "outputs": [],
   "source": [
    "a = numpy.nan_to_num(r_5_re.data)\n",
    "a = numpy.where(a==0, False, True)\n",
    "b = numpy.nan_to_num(r_6_re.data)\n",
    "b = numpy.where(b==0, False, True)\n",
    "c = numpy.logical_and(a, b)\n",
    "#c = numpy.where(c==False, 0, 255)\n",
    "#PIL.Image.fromarray(numpy.uint8(a))\n",
    "#PIL.Image.fromarray(numpy.uint8(b))\n",
    "#PIL.Image.fromarray(numpy.uint8(c))\n",
    "\n",
    "test3 = numpy.nan_to_num(r_5_re.data) + numpy.nan_to_num(r_6_re.data)\n",
    "test3 = numpy.where(c==True, test3/2, test3)\n",
    "#PIL.Image.fromarray(numpy.uint8(test3))"
   ]
  },
  {
   "cell_type": "code",
   "execution_count": 14,
   "metadata": {},
   "outputs": [],
   "source": [
    "a = numpy.where(test1==0, False, True)\n",
    "b = numpy.where(test2==0, False, True)\n",
    "c = numpy.where(test3==0, False, True)\n",
    "d = numpy.logical_and(a, b)\n",
    "e = numpy.logical_and(b, c)\n",
    "f = numpy.logical_or(d, e)\n",
    "#f = numpy.where(f==False, 0, 255)\n",
    "#PIL.Image.fromarray(numpy.uint8(a))\n",
    "#PIL.Image.fromarray(numpy.uint8(b))\n",
    "#PIL.Image.fromarray(numpy.uint8(c))\n",
    "#PIL.Image.fromarray(numpy.uint8(d))\n",
    "#PIL.Image.fromarray(numpy.uint8(e))\n",
    "#PIL.Image.fromarray(numpy.uint8(f))\n",
    "\n",
    "test4 = test1 + test2 + test3\n",
    "test4 = numpy.where(f==True, test4/2, test4)\n",
    "#PIL.Image.fromarray(numpy.uint8(test4))"
   ]
  },
  {
   "cell_type": "code",
   "execution_count": 15,
   "metadata": {},
   "outputs": [],
   "source": [
    "r_re = r_1_re\n",
    "r_re.data = test4\n",
    "#PIL.Image.fromarray(numpy.uint8(r_re.data))"
   ]
  },
  {
   "cell_type": "code",
   "execution_count": 16,
   "metadata": {},
   "outputs": [],
   "source": [
    "g_re.data = numpy.nan_to_num(g_re.data)\n",
    "b_re.data = numpy.nan_to_num(b_re.data)"
   ]
  },
  {
   "cell_type": "code",
   "execution_count": 17,
   "metadata": {},
   "outputs": [],
   "source": [
    "img = n2.jpy_rgbimage(r_re.data, g_re.data, b_re.data, nanval='min', qlook_size=500)\n",
    "img"
   ]
  },
  {
   "cell_type": "code",
   "execution_count": null,
   "metadata": {},
   "outputs": [],
   "source": []
  }
 ],
 "metadata": {
  "kernelspec": {
   "display_name": "Python 3",
   "language": "python",
   "name": "python3"
  },
  "language_info": {
   "codemirror_mode": {
    "name": "ipython",
    "version": 3
   },
   "file_extension": ".py",
   "mimetype": "text/x-python",
   "name": "python",
   "nbconvert_exporter": "python",
   "pygments_lexer": "ipython3",
   "version": "3.6.9"
  }
 },
 "nbformat": 4,
 "nbformat_minor": 4
}
