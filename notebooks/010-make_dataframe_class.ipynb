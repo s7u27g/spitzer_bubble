{
 "cells": [
  {
   "cell_type": "markdown",
   "metadata": {},
   "source": [
    "# cut_data を作った"
   ]
  },
  {
   "cell_type": "code",
   "execution_count": null,
   "metadata": {},
   "outputs": [],
   "source": [
    "import numpy\n",
    "import PIL\n",
    "import tensorflow\n",
    "import pathlib\n",
    "import sys\n",
    "sys.path.append('..')\n",
    "from src.utils import cut_data"
   ]
  },
  {
   "cell_type": "code",
   "execution_count": null,
   "metadata": {},
   "outputs": [],
   "source": [
    "path = pathlib.Path.home()/'jupyter/spitzer_bubble/data/interim/gal'\n",
    "sdf = cut_data.get_spitzer_df(path=path, fac=1, b=[-0.8, 0.8], R=[0.1, 10], seed=1)\n",
    "dir_ = sdf.get_dir()\n",
    "#dir_"
   ]
  },
  {
   "cell_type": "code",
   "execution_count": null,
   "metadata": {},
   "outputs": [],
   "source": [
    "cut_tb = sdf.get_cut_table('spitzer_34800+0000_rgb')\n",
    "print(cut_tb.get_obj())"
   ]
  },
  {
   "cell_type": "code",
   "execution_count": null,
   "metadata": {},
   "outputs": [],
   "source": [
    "data, info = cut_tb['S7']"
   ]
  },
  {
   "cell_type": "code",
   "execution_count": null,
   "metadata": {},
   "outputs": [],
   "source": [
    "info"
   ]
  },
  {
   "cell_type": "code",
   "execution_count": null,
   "metadata": {},
   "outputs": [],
   "source": [
    "img = tensorflow.image.resize(\n",
    "    images=numpy.array([data]), \n",
    "    size=[128, 128], \n",
    "    method='gaussian',\n",
    ")\n",
    "img = numpy.where(img>255, 255, img)\n",
    "im = PIL.Image.fromarray(numpy.uint8(img[0]))\n",
    "im"
   ]
  },
  {
   "cell_type": "markdown",
   "metadata": {},
   "source": [
    "# 以下、試行錯誤のあと"
   ]
  },
  {
   "cell_type": "code",
   "execution_count": null,
   "metadata": {},
   "outputs": [],
   "source": [
    "import pathlib\n",
    "import random\n",
    "import numpy\n",
    "import pandas\n",
    "import PIL.Image\n",
    "import astropy.io.fits\n",
    "import astroquery.vizier\n",
    "import tensorflow"
   ]
  },
  {
   "cell_type": "code",
   "execution_count": null,
   "metadata": {},
   "outputs": [],
   "source": [
    "def get_bubble_df():\n",
    "    # make instance\n",
    "    viz = astroquery.vizier.Vizier(columns=['*'])\n",
    "    viz.ROW_LIMIT = -1\n",
    "    # load bub_2006\n",
    "    bub_2006 = viz.query_constraints(catalog='J/ApJ/649/759/bubbles')[0].to_pandas()\n",
    "    bub_2006.loc[:, '__CPA2006_'] = bub_2006.loc[:, '__CPA2006_'].str.decode('utf-8')\n",
    "    bub_2006.loc[:, 'MFlags'] = bub_2006.loc[:, 'MFlags'].str.decode('utf-8')\n",
    "    # load bub_2007\n",
    "    bub_2007 = viz.query_constraints(catalog='J/ApJ/670/428/bubble')[0].to_pandas()\n",
    "    bub_2007.loc[:, '__CWP2007_'] = bub_2007.loc[:, '__CWP2007_'].str.decode('utf-8')\n",
    "    bub_2007.loc[:, 'MFlags'] = bub_2007.loc[:, 'MFlags'].str.decode('utf-8')\n",
    "    # convert to pandas for 2006\n",
    "    bub_2006.rename(columns={'__CPA2006_': 'name'}, inplace=True)\n",
    "    bub_2006.rename(columns={'GLON': 'l'}, inplace=True)\n",
    "    bub_2006.rename(columns={'GLAT': 'b'}, inplace=True)\n",
    "    bub_2006.rename(columns={'__R_': '<R>'}, inplace=True)\n",
    "    bub_2006.rename(columns={'__T_': '<T>'}, inplace=True)\n",
    "    bub_2006.rename(columns={'MFlags': 'Flags'}, inplace=True)\n",
    "    bub_2006.rename(columns={'_RA.icrs': 'RA.icrs'}, inplace=True)\n",
    "    bub_2006.rename(columns={'_DE.icrs': 'DE.icrs'}, inplace=True)\n",
    "    bub_2006 = bub_2006.set_index('name')\n",
    "    # convert to pandas for 2007\n",
    "    bub_2007.rename(columns={'__CWP2007_': 'name'}, inplace=True)\n",
    "    bub_2007.rename(columns={'GLON': 'l'}, inplace=True)\n",
    "    bub_2007.rename(columns={'GLAT': 'b'}, inplace=True)\n",
    "    bub_2007.rename(columns={'__R_': '<R>'}, inplace=True)\n",
    "    bub_2007.rename(columns={'__T_': '<T>'}, inplace=True)\n",
    "    bub_2007.rename(columns={'MFlags': 'Flags'}, inplace=True)\n",
    "    bub_2007.rename(columns={'_RA.icrs': 'RA.icrs'}, inplace=True)\n",
    "    bub_2007.rename(columns={'_DE.icrs': 'DE.icrs'}, inplace=True)\n",
    "    for i in bub_2007.index:\n",
    "        bub_2007.loc[i, 'name'] = bub_2007.loc[i, 'name'].replace(' ', '')\n",
    "        pass\n",
    "    bub_2007 = bub_2007.set_index('name')\n",
    "    # concat 2006 and 2007\n",
    "    bub = pandas.concat([bub_2006, bub_2007])\n",
    "    return bub"
   ]
  },
  {
   "cell_type": "code",
   "execution_count": null,
   "metadata": {},
   "outputs": [],
   "source": [
    "def get_spitzer_df(path, fac, b=[-0.8, 0.8], R=[0.1, 10], seed=None):\n",
    "    return SpitzerDf(path, fac, b, R, seed)\n",
    "\n",
    "class SpitzerDf(object):\n",
    "    path = None\n",
    "    files = None\n",
    "    df = None\n",
    "    \n",
    "    def __init__(self, path, fac, b, R, seed):\n",
    "        '''\n",
    "        path: str or pathlib.Path\n",
    "        fac: int or float\n",
    "        b: [min, max] deg\n",
    "        R: [min, max] arcmin\n",
    "        seed: int or float\n",
    "        '''\n",
    "        if not isinstance(path, pathlib.Path):\n",
    "            path = pathlib.Path(path)\n",
    "            pass\n",
    "        \n",
    "        self.path = path\n",
    "        self.files = [i.name for i in list(self.path.glob('*'))]\n",
    "        self.df = get_bubble_df()\n",
    "        self._add_random_df(fac, b, R, seed)\n",
    "        self._get_dir()\n",
    "        pass\n",
    "    \n",
    "    def _add_random_df(self, fac, b, R, seed):\n",
    "        random.seed(seed)\n",
    "        numpy.random.seed(seed)\n",
    "        l = sorted([int(i[8:11]) for i in self.files])\n",
    "        l_bub = self.df.loc[:, 'l'].tolist()\n",
    "        b_bub = self.df.loc[:, 'b'].tolist()\n",
    "        R_bub = self.df.loc[:, 'Rout'].tolist()\n",
    "        # Generate coordinates and size randomly within specified range    \n",
    "        name, glon_li, glat_li, size_li, i_n = [], [], [], [], 1\n",
    "        while len(glon_li) < len(self.df)*fac:\n",
    "            l_range = 2\n",
    "            l_center = random.choice(l)\n",
    "            l_fac = numpy.random.rand()\n",
    "            b_fac = numpy.random.rand()\n",
    "            s_fac = numpy.random.rand()\n",
    "            i_l = round((l_range*l_fac) + l_center - (l_range/2), 3)\n",
    "            i_b = round((b[1] - b[0])*b_fac + b[0], 3)\n",
    "            i_R = round((R[1] - R[0])*s_fac + R[0], 2)\n",
    "            # Select one that does not overlap with the bubble catalog\n",
    "            distance = [(i_l - j_l)**2 + (i_b - j_b)**2 for j_l, j_b in zip(l_bub, b_bub)]\n",
    "            _min = [(i_R/60 + j_R/60)**2 for j_R in R_bub]\n",
    "            if all([_d > _m for _d, _m in zip(distance, _min)]):\n",
    "                name.append('F{}'.format(i_n))\n",
    "                glon_li.append(i_l)\n",
    "                glat_li.append(i_b)\n",
    "                size_li.append(i_R)\n",
    "                i_n += 1\n",
    "                pass\n",
    "        nbub = pandas.DataFrame({'name': name, 'l': glon_li, 'b': glat_li, 'Rout': size_li})\n",
    "        nbub = nbub.set_index('name')\n",
    "        # add columns for label\n",
    "        self.df = self.df.assign(label=1)\n",
    "        nbub = nbub.assign(label=0)\n",
    "        self.df = self.df.append(nbub)[self.df.columns.tolist()]\n",
    "        self.df = self.df.loc[(self.df.loc[:, 'Rout']>R[0])&(self.df.loc[:, 'Rout']<R[1])]    \n",
    "        return\n",
    "    \n",
    "    def _get_dir(self):\n",
    "        files = self.path.glob('*')\n",
    "        over_358p5 = self.df.loc[:, 'l']>358.5\n",
    "        for i in self.df[over_358p5].loc[:, 'l'].index:\n",
    "            self.df.loc[i, 'l'] -= 360\n",
    "            pass\n",
    "        for file in files:\n",
    "            file = str(file).split('/')[-1]\n",
    "            l_center = float(file[8:11])\n",
    "            l_min = l_center - 1.5\n",
    "            l_max = l_center + 1.5\n",
    "            _slice = (self.df.loc[:, 'l']>=l_min)&(self.df.loc[:, 'l']<l_max)\n",
    "            for i in self.df.loc[_slice].index:\n",
    "                self.df.loc[i, 'directory'] = file\n",
    "                pass\n",
    "            pass\n",
    "        under_0p0 = self.df.loc[:, 'l']<0\n",
    "        for i in self.df[under_0p0].loc[:, 'l'].index:\n",
    "            self.df.loc[i, 'l'] += 360\n",
    "            pass\n",
    "        # drop NaN file line\n",
    "        self.df = self.df.dropna(subset=['directory'])\n",
    "        return\n",
    "    \n",
    "    def get_cut_table(self, dir_, margin=3):\n",
    "        df = self.df.loc[self.df.loc[:, 'directory']==dir_]\n",
    "        return CutTable(self.path/dir_, df, margin)\n",
    "    \n",
    "    def limit_l(self, l_min, l_max):\n",
    "        pass\n",
    "    \n",
    "    def limit_b(self, b_min, b_max):\n",
    "        pass\n",
    "    \n",
    "    def limit_R(self, R_min, R_max):\n",
    "        pass\n",
    "    \n",
    "    def get_bub_df(self):\n",
    "        pass\n",
    "    \n",
    "    def get_nbub_df(self):\n",
    "        pass\n",
    "    \n",
    "    def get_dir(self):\n",
    "        dir_ = self.df.loc[:, 'directory'].unique().tolist()\n",
    "        return dir_"
   ]
  },
  {
   "cell_type": "code",
   "execution_count": null,
   "metadata": {},
   "outputs": [],
   "source": [
    "class CutTable(object):\n",
    "    path = None\n",
    "    df = None\n",
    "    header = None\n",
    "    data = None\n",
    "    \n",
    "    def __init__(self, path, df, margin):\n",
    "        self.path = path\n",
    "        self.df = df.drop(\"directory\", axis=1)\n",
    "        self.df = self.df.assign(margin=numpy.nan)\n",
    "        self.df = self.df.assign(x_pix_min=0)\n",
    "        self.df = self.df.assign(x_pix_max=0)\n",
    "        self.df = self.df.assign(y_pix_min=0)\n",
    "        self.df = self.df.assign(y_pix_max=0)\n",
    "        rgb = ['r.fits', 'g.fits', 'b.fits']\n",
    "        hdus = [astropy.io.fits.open(path/i)[0] for i in rgb]\n",
    "        self.header = {\n",
    "            'r': hdus[0].header,\n",
    "            'g': hdus[1].header,\n",
    "            'b': hdus[2].header,\n",
    "        }\n",
    "        self.data = {\n",
    "            'r': hdus[0].data,\n",
    "            'g': hdus[1].data,\n",
    "            'b': hdus[2].data,\n",
    "        }\n",
    "        self.w = astropy.wcs.WCS(self.header['g'])\n",
    "        [self.calc_pix(i, margin) for i in self.get_obj()]\n",
    "        pass\n",
    "    \n",
    "    def __repr__(self):\n",
    "        return '<CutTable path={}>'.format(self.path)\n",
    "    \n",
    "    def __getitem__(self, obj):\n",
    "        info = dict(self.df.loc[obj])\n",
    "        info['name'] = obj\n",
    "        info['path'] = str(self.path)\n",
    "        data = self.cut_img(obj)\n",
    "        return data, info\n",
    "\n",
    "    def calc_pix(self, obj, margin):\n",
    "        series = self.df.loc[obj]        \n",
    "        l_min = series['l'] - margin*series['Rout']/60\n",
    "        b_min = series['b'] - margin*series['Rout']/60\n",
    "        l_max = series['l'] + margin*series['Rout']/60\n",
    "        b_max = series['b'] + margin*series['Rout']/60\n",
    "        x_pix_min, y_pix_min = self.w.all_world2pix(l_max, b_min, 0)\n",
    "        x_pix_max, y_pix_max = self.w.all_world2pix(l_min, b_max, 0)\n",
    "        R_pix = int(((x_pix_max - x_pix_min)/2 + (y_pix_max - y_pix_min)/2)/2)\n",
    "        x_pix, y_pix = self.w.all_world2pix(series['l'], series['b'], 0)\n",
    "        x_pix_min = max(0, int(numpy.round(x_pix)) - R_pix)\n",
    "        x_pix_max = max(0, int(numpy.round(x_pix)) + R_pix)\n",
    "        y_pix_min = max(0, int(numpy.round(y_pix)) - R_pix)\n",
    "        y_pix_max = max(0, int(numpy.round(y_pix)) + R_pix)\n",
    "        self.df.loc[obj, 'margin'] = margin\n",
    "        self.df.loc[obj, 'x_pix_min'] = x_pix_min\n",
    "        self.df.loc[obj, 'x_pix_max'] = x_pix_max\n",
    "        self.df.loc[obj, 'y_pix_min'] = y_pix_min\n",
    "        self.df.loc[obj, 'y_pix_max'] = y_pix_max\n",
    "        return\n",
    "    \n",
    "    def cut_img(self, obj):\n",
    "        x_pix_min = self.df.loc[obj, 'x_pix_min']\n",
    "        x_pix_max = self.df.loc[obj, 'x_pix_max']\n",
    "        y_pix_min = self.df.loc[obj, 'y_pix_min']\n",
    "        y_pix_max = self.df.loc[obj, 'y_pix_max']\n",
    "        r = self.data['r'][y_pix_min:y_pix_max, x_pix_min:x_pix_max]\n",
    "        g = self.data['g'][y_pix_min:y_pix_max, x_pix_min:x_pix_max]\n",
    "        b = self.data['b'][y_pix_min:y_pix_max, x_pix_min:x_pix_max]\n",
    "        rgb = numpy.stack([r, g, b], 2)\n",
    "        rgb = numpy.flipud(rgb)\n",
    "        return rgb\n",
    "    \n",
    "    def get_obj(self):\n",
    "        return self.df.index.to_list()"
   ]
  },
  {
   "cell_type": "code",
   "execution_count": null,
   "metadata": {},
   "outputs": [],
   "source": [
    "path = pathlib.Path.home()/'jupyter/spitzer_bubble/data/interim/gal'\n",
    "sdf = get_spitzer_df(path=path, fac=1, b=[-0.8, 0.8], R=[0.1, 10], seed=1)\n",
    "dir_ = sdf.get_dir()\n",
    "#dir_"
   ]
  },
  {
   "cell_type": "code",
   "execution_count": null,
   "metadata": {},
   "outputs": [],
   "source": [
    "cut_tb = sdf.get_cut_table('spitzer_02100+0000_rgb')\n",
    "print(cut_tb.get_obj())"
   ]
  },
  {
   "cell_type": "code",
   "execution_count": null,
   "metadata": {},
   "outputs": [],
   "source": [
    "data, info = cut_tb['F553']"
   ]
  },
  {
   "cell_type": "code",
   "execution_count": null,
   "metadata": {},
   "outputs": [],
   "source": [
    "img = tensorflow.image.resize(\n",
    "    images=numpy.array([data]), \n",
    "    size=[128, 128], \n",
    "    method='gaussian',\n",
    ")\n",
    "img = numpy.where(img>255, 255, img)\n",
    "im = PIL.Image.fromarray(numpy.uint8(img[0]))\n",
    "im"
   ]
  },
  {
   "cell_type": "code",
   "execution_count": null,
   "metadata": {},
   "outputs": [],
   "source": [
    "import sys\n",
    "sys.path.append('..')\n",
    "from src.utils import cut_data"
   ]
  },
  {
   "cell_type": "code",
   "execution_count": null,
   "metadata": {},
   "outputs": [],
   "source": [
    "path = pathlib.Path.home()/'jupyter/spitzer_bubble/data/interim/gal'\n",
    "sdf = cut_data.get_spitzer_df(path=path, fac=1, b=[-0.8, 0.8], R=[0.1, 10], seed=1)\n",
    "dir_ = sdf.get_dir()\n",
    "#dir_"
   ]
  },
  {
   "cell_type": "code",
   "execution_count": null,
   "metadata": {},
   "outputs": [],
   "source": [
    "cut_tb = sdf.get_cut_table('spitzer_34800+0000_rgb')\n",
    "print(cut_tb.get_obj())"
   ]
  },
  {
   "cell_type": "code",
   "execution_count": null,
   "metadata": {},
   "outputs": [],
   "source": [
    "data, info = cut_tb['S7']"
   ]
  },
  {
   "cell_type": "code",
   "execution_count": null,
   "metadata": {},
   "outputs": [],
   "source": [
    "img = tensorflow.image.resize(\n",
    "    images=numpy.array([data]), \n",
    "    size=[128, 128], \n",
    "    method='gaussian',\n",
    ")\n",
    "img = numpy.where(img>255, 255, img)\n",
    "im = PIL.Image.fromarray(numpy.uint8(img[0]))\n",
    "im"
   ]
  },
  {
   "cell_type": "code",
   "execution_count": null,
   "metadata": {},
   "outputs": [],
   "source": []
  }
 ],
 "metadata": {
  "kernelspec": {
   "display_name": "Python 3",
   "language": "python",
   "name": "python3"
  },
  "language_info": {
   "codemirror_mode": {
    "name": "ipython",
    "version": 3
   },
   "file_extension": ".py",
   "mimetype": "text/x-python",
   "name": "python",
   "nbconvert_exporter": "python",
   "pygments_lexer": "ipython3",
   "version": "3.6.9"
  }
 },
 "nbformat": 4,
 "nbformat_minor": 4
}
