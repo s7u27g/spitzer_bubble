{
 "cells": [
  {
   "cell_type": "code",
   "execution_count": 2,
   "metadata": {},
   "outputs": [
    {
     "name": "stdout",
     "output_type": "stream",
     "text": [
      "\u001b[37m[13:59:54,643]\u001b[0m\u001b[34m INFO: python 3.6.9\u001b[0m\n",
      "\u001b[37m[13:59:54,644]\u001b[0m\u001b[34m INFO: n2-tools 0.0.26\u001b[0m\n"
     ]
    }
   ],
   "source": [
    "import sys\n",
    "sys.path.append('..')\n",
    "from src.utils import data_utils"
   ]
  },
  {
   "cell_type": "code",
   "execution_count": null,
   "metadata": {},
   "outputs": [],
   "source": [
    "l = [i for i in range(0, 66)]\n",
    "for i in l:\n",
    "    data_utils.download_mipsgal_data(i, 'p', '~/data/spitzer/mipsgal/mips24')\n",
    "    data_utils.download_mipsgal_data(i, 'n', '~/data/spitzer/mipsgal/mips24')\n",
    "    \n",
    "l = [i for i in range(296, 359)]\n",
    "for i in l:\n",
    "    data_utils.download_mipsgal_data(i, 'p', '~/data/spitzer/mipsgal/mips24')\n",
    "    data_utils.download_mipsgal_data(i, 'n', '~/data/spitzer/mipsgal/mips24')"
   ]
  },
  {
   "cell_type": "code",
   "execution_count": null,
   "metadata": {},
   "outputs": [],
   "source": [
    "l = [i for i in range(0, 66, 3)]\n",
    "for i in l:\n",
    "    data_utils.download_glimpse_data(i, 'irac1', '~/data/spitzer/glimpse/irac1')\n",
    "    data_utils.download_glimpse_data(i, 'irac4', '~/data/spitzer/glimpse/irac4')\n",
    "\n",
    "l = [i for i in range(297, 360, 3)]\n",
    "for i in l:\n",
    "    data_utils.download_glimpse_data(i, 'irac1', '~/data/spitzer/glimpse/irac1')\n",
    "    data_utils.download_glimpse_data(i, 'irac4', '~/data/spitzer/glimpse/irac4')"
   ]
  },
  {
   "cell_type": "code",
   "execution_count": null,
   "metadata": {},
   "outputs": [],
   "source": [
    "l = [i for i in range(0, 66, 3)]\n",
    "for i in l:\n",
    "    data_utils.make_rgb_fits(*data_utils.get_fits_paths(i))\n",
    "    \n",
    "l = [i for i in range(297, 360, 3)]\n",
    "for i in l:\n",
    "    data_utils.make_rgb_fits(*data_utils.get_fits_paths(i))"
   ]
  },
  {
   "cell_type": "code",
   "execution_count": null,
   "metadata": {},
   "outputs": [],
   "source": [
    "sample = data_utils.get_sample_table()\n",
    "sample"
   ]
  },
  {
   "cell_type": "code",
   "execution_count": null,
   "metadata": {},
   "outputs": [],
   "source": []
  }
 ],
 "metadata": {
  "kernelspec": {
   "display_name": "Python 3",
   "language": "python",
   "name": "python3"
  },
  "language_info": {
   "codemirror_mode": {
    "name": "ipython",
    "version": 3
   },
   "file_extension": ".py",
   "mimetype": "text/x-python",
   "name": "python",
   "nbconvert_exporter": "python",
   "pygments_lexer": "ipython3",
   "version": "3.6.9"
  }
 },
 "nbformat": 4,
 "nbformat_minor": 4
}
