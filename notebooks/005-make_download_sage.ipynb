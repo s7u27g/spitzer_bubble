{
 "cells": [
  {
   "cell_type": "markdown",
   "metadata": {},
   "source": [
    "# [SAGE](https://irsa.ipac.caltech.edu/data/SPITZER/SAGE/) のデータを一括ダウンロード\n",
    "- 引数1: str 型の 'irac1', 'irac2', 'irac3', 'irac4', 'mips24'\n",
    "- 引数2: str 型で保存場所の Path"
   ]
  },
  {
   "cell_type": "code",
   "execution_count": null,
   "metadata": {},
   "outputs": [],
   "source": [
    "import sys\n",
    "import pathlib\n",
    "import urllib.request\n",
    "\n",
    "sys.path.append('..')"
   ]
  },
  {
   "cell_type": "markdown",
   "metadata": {},
   "source": [
    "### 指定したファイルをダウンロード可能か試験"
   ]
  },
  {
   "cell_type": "code",
   "execution_count": null,
   "metadata": {},
   "outputs": [],
   "source": [
    "save_path = pathlib.Path('~/data/spitzer/sage/').expanduser()\n",
    "url = 'https://irsa.ipac.caltech.edu//data/SPITZER/SAGE/images/irac/v2.2_8x8_2.0_images/'\n",
    "file_name = 'SAGE_LMC_IRAC8.0_2_mosaic.fits'\n",
    "with urllib.request.urlopen(url+file_name) as u:\n",
    "    with open(save_path/file_name, 'bw') as o:\n",
    "        o.write(u.read())"
   ]
  },
  {
   "cell_type": "markdown",
   "metadata": {},
   "source": [
    "### 以下、作成した関数および使用例"
   ]
  },
  {
   "cell_type": "code",
   "execution_count": null,
   "metadata": {},
   "outputs": [],
   "source": [
    "def download_sage_data(band, save_path):\n",
    "    '''\n",
    "    band must be str, irac1, 2, 3, 4 or mips24.\n",
    "    '''\n",
    "    instrument_dict = {\n",
    "        'irac': 'irac/v2.2_8x8_2.0_images/',\n",
    "        'mips': 'mips_full_mos/',\n",
    "    }\n",
    "    \n",
    "    band_dict = {\n",
    "        'irac1': 'SAGE_LMC_IRAC3.6_2_mosaic.fits',\n",
    "        'irac2': 'SAGE_LMC_IRAC4.5_2_mosaic.fits',\n",
    "        'irac3': 'SAGE_LMC_IRAC5.8_2_mosaic.fits',\n",
    "        'irac4': 'SAGE_LMC_IRAC8.0_2_mosaic.fits',\n",
    "        'mips24': 'SAGE_LMC_MIPS24_E2.fits',\n",
    "    }\n",
    "    save_path = pathlib.Path(save_path).expanduser()\n",
    "    url = 'https://irsa.ipac.caltech.edu//data/SPITZER/SAGE/images/'\n",
    "    url += instrument_dict[band[:4]]\n",
    "    \n",
    "    file_name = band_dict[band]\n",
    "    with urllib.request.urlopen(url+file_name) as u:\n",
    "        with open(save_path/file_name, 'bw') as o:\n",
    "            o.write(u.read())\n",
    "            \n",
    "    return"
   ]
  },
  {
   "cell_type": "code",
   "execution_count": null,
   "metadata": {},
   "outputs": [],
   "source": [
    "band = ['irac1', 'irac2', 'irac3', 'irac4', 'mips24']\n",
    "for i in band:\n",
    "    download_sage_data(i, '~/data/spitzer/sage')"
   ]
  },
  {
   "cell_type": "markdown",
   "metadata": {},
   "source": [
    "### /src/utils/data_utils.py に関数を追加した。"
   ]
  },
  {
   "cell_type": "code",
   "execution_count": null,
   "metadata": {},
   "outputs": [],
   "source": [
    "from src.utils import data_utils\n",
    "data_utils.download_sage_data('irac1', '~/data/spitzer/glimpse/irac1')"
   ]
  },
  {
   "cell_type": "code",
   "execution_count": null,
   "metadata": {},
   "outputs": [],
   "source": []
  }
 ],
 "metadata": {
  "kernelspec": {
   "display_name": "Python 3",
   "language": "python",
   "name": "python3"
  },
  "language_info": {
   "codemirror_mode": {
    "name": "ipython",
    "version": 3
   },
   "file_extension": ".py",
   "mimetype": "text/x-python",
   "name": "python",
   "nbconvert_exporter": "python",
   "pygments_lexer": "ipython3",
   "version": "3.6.9"
  }
 },
 "nbformat": 4,
 "nbformat_minor": 4
}
