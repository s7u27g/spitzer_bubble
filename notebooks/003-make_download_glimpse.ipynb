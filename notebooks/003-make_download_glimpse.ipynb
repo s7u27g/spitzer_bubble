{
 "cells": [
  {
   "cell_type": "markdown",
   "metadata": {},
   "source": [
    "# GLIMPSE のデータを一括ダウンロード\n",
    "- 引数1: int 型の 0-360 数字<br>(間に観測対象外のものも含まれるため注意 & 3の倍数推奨)\n",
    "- 引数2: str 型の 'irac1', 'irac2', 'irac3', 'irac4'\n",
    "- 引数3: str 型で保存場所の Path"
   ]
  },
  {
   "cell_type": "code",
   "execution_count": 1,
   "metadata": {},
   "outputs": [],
   "source": [
    "import sys\n",
    "import pathlib\n",
    "import urllib.request\n",
    "\n",
    "sys.path.append('..')"
   ]
  },
  {
   "cell_type": "markdown",
   "metadata": {},
   "source": [
    "### 指定したファイルをダウンロード可能か試験"
   ]
  },
  {
   "cell_type": "code",
   "execution_count": 2,
   "metadata": {},
   "outputs": [],
   "source": [
    "save_path = pathlib.Path('~/data/spitzer/glimpse/').expanduser()\n",
    "url = 'https://irsa.ipac.caltech.edu//data/SPITZER/GLIMPSE/images/'\n",
    "url += 'II/1.2_mosaics_v3.5/'\n",
    "file_name = 'GLM_00900+0000_mosaic_I4.fits'\n",
    "with urllib.request.urlopen(url+file_name) as u:\n",
    "    with open(save_path/file_name, 'bw') as o:\n",
    "        o.write(u.read())\n",
    "        \n",
    "url = 'https://irsa.ipac.caltech.edu//data/SPITZER/GLIMPSE/images/'\n",
    "url += 'I/1.2_mosaics_v3.5/GLON_30-53/'\n",
    "file_name = 'GLM_03300+0000_mosaic_I4.fits'\n",
    "with urllib.request.urlopen(url+file_name) as u:\n",
    "    with open(save_path/file_name, 'bw') as o:\n",
    "        o.write(u.read())"
   ]
  },
  {
   "cell_type": "markdown",
   "metadata": {},
   "source": [
    "### 以下、作成した関数および使用例"
   ]
  },
  {
   "cell_type": "code",
   "execution_count": 3,
   "metadata": {},
   "outputs": [],
   "source": [
    "def download_glimpse_data(l, band, save_path):\n",
    "    '''\n",
    "    l must be int (recommended multiple of 3) from 0 to 359.\n",
    "    band must be str, irac1, 2, 3, or 4.\n",
    "    '''\n",
    "    save_path = pathlib.Path(save_path).expanduser()\n",
    "    band_dict = {'irac1': 'I1', 'irac2': 'I2', 'irac3': 'I3', 'irac4': 'I4'}\n",
    "    url = 'https://irsa.ipac.caltech.edu//data/SPITZER/GLIMPSE/images/'\n",
    "    if (-1<=l and l<11) or (350<=l or 360<=l):\n",
    "        url += 'II/1.2_mosaics_v3.5/'\n",
    "    if 11<=l and l<32:\n",
    "        url += 'I/1.2_mosaics_v3.5/GLON_10-30/'\n",
    "    if 32<=l and l<54:\n",
    "        url += 'I/1.2_mosaics_v3.5/GLON_30-53/'\n",
    "    if 54<=l and l<68:\n",
    "        url += 'I/1.2_mosaics_v3.5/GLON_53-66/'\n",
    "    if 284<=l and l<311:\n",
    "        url += 'I/1.2_mosaics_v3.5/GLON_284_295-310/'\n",
    "    if 311<=l and l<330:\n",
    "        url += 'I/1.2_mosaics_v3.5/GLON_310-330/'\n",
    "    if 330<=l and l<350:\n",
    "        url += 'I/1.2_mosaics_v3.5/GLON_330-350/'\n",
    "        \n",
    "    func = lambda l: (l//3+1)*3 if l%3 > 1.5 else (l//3)*3 \n",
    "    l = str(func(l))+'00'\n",
    "    while len(l)!=5:\n",
    "        l = '0'+l\n",
    "        \n",
    "    file_name = 'GLM_'+l+'+0000_mosaic_'+band_dict[band]+'.fits'\n",
    "    with urllib.request.urlopen(url+file_name) as u:\n",
    "        with open(save_path/file_name, 'bw') as o:\n",
    "            o.write(u.read())\n",
    "            \n",
    "    return"
   ]
  },
  {
   "cell_type": "code",
   "execution_count": 4,
   "metadata": {},
   "outputs": [],
   "source": [
    "l = [i for i in range(0, 66, 3)]\n",
    "for i in l:\n",
    "    download_glimpse_data(i, 'irac1', '~/data/spitzer/glimpse/irac1')\n",
    "    download_glimpse_data(i, 'irac4', '~/data/spitzer/glimpse/irac4')\n",
    "\n",
    "l = [i for i in range(297, 360, 3)]\n",
    "for i in l:\n",
    "    download_glimpse_data(i, 'irac1', '~/data/spitzer/glimpse/irac1')\n",
    "    download_glimpse_data(i, 'irac4', '~/data/spitzer/glimpse/irac4')"
   ]
  },
  {
   "cell_type": "markdown",
   "metadata": {},
   "source": [
    "### /src/utils/data_utils.py に関数を追加した。"
   ]
  },
  {
   "cell_type": "code",
   "execution_count": 5,
   "metadata": {},
   "outputs": [],
   "source": [
    "from src.utils import data_utils\n",
    "data_utils.download_glimpse_data(0, 'irac1', '~/data/spitzer/glimpse/irac1')"
   ]
  },
  {
   "cell_type": "code",
   "execution_count": null,
   "metadata": {},
   "outputs": [],
   "source": []
  }
 ],
 "metadata": {
  "kernelspec": {
   "display_name": "Python 3",
   "language": "python",
   "name": "python3"
  },
  "language_info": {
   "codemirror_mode": {
    "name": "ipython",
    "version": 3
   },
   "file_extension": ".py",
   "mimetype": "text/x-python",
   "name": "python",
   "nbconvert_exporter": "python",
   "pygments_lexer": "ipython3",
   "version": "3.6.9"
  }
 },
 "nbformat": 4,
 "nbformat_minor": 4
}
