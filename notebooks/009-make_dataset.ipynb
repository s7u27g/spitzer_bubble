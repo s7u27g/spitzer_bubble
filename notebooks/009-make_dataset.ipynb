{
 "cells": [
  {
   "cell_type": "markdown",
   "metadata": {},
   "source": [
    "# Data Set を作ります。"
   ]
  },
  {
   "cell_type": "code",
   "execution_count": null,
   "metadata": {},
   "outputs": [],
   "source": [
    "import sys\n",
    "import pathlib\n",
    "import numpy\n",
    "import PIL\n",
    "import astropy.io.fits\n",
    "import astropy.wcs\n",
    "import tensorflow\n",
    "\n",
    "sys.path.append('..')\n",
    "from src.utils import data_utils\n",
    "\n",
    "sample = data_utils.get_sample_table()"
   ]
  },
  {
   "cell_type": "code",
   "execution_count": null,
   "metadata": {},
   "outputs": [],
   "source": [
    "def cut_obj(margin, obj_info):\n",
    "    data_path = pathlib.Path('~/jupyter/spitzer_bubble/data/interim/gal').expanduser()\n",
    "    dir_ = data_path/obj_info['directory']\n",
    "    \n",
    "    files =['r.fits', 'g.fits', 'b.fits']\n",
    "    hdus = [astropy.io.fits.open(data_path/dir_/file)[0] for file in files]\n",
    "\n",
    "    r_data = hdus[0].data\n",
    "    g_data = hdus[1].data\n",
    "    b_data = hdus[2].data    \n",
    "    \n",
    "    hdu = astropy.io.fits.open(dir_/'g.fits')[0]\n",
    "    header = hdu.header\n",
    "    w = astropy.wcs.WCS(header)\n",
    "\n",
    "    l_min = obj_info['l'] - margin*obj_info['Rout']/60\n",
    "    b_min = obj_info['b'] - margin*obj_info['Rout']/60\n",
    "    l_max = obj_info['l'] + margin*obj_info['Rout']/60\n",
    "    b_max = obj_info['b'] + margin*obj_info['Rout']/60\n",
    "    x_pix_min, y_pix_min = w.all_world2pix(l_max, b_min, 0)\n",
    "    x_pix_max, y_pix_max = w.all_world2pix(l_min, b_max, 0)\n",
    "\n",
    "    R_pix = int(((x_pix_max - x_pix_min)/2 + (y_pix_max - y_pix_min)/2)/2)\n",
    "    x_pix, y_pix = w.all_world2pix(obj_info['l'], obj_info['b'], 0)\n",
    "\n",
    "    x_pix_min = max(0, int(numpy.round(x_pix)) - R_pix)\n",
    "    x_pix_max = max(0, int(numpy.round(x_pix)) + R_pix)\n",
    "    y_pix_min = max(0, int(numpy.round(y_pix)) - R_pix)\n",
    "    y_pix_max = max(0, int(numpy.round(y_pix)) + R_pix)\n",
    "    \n",
    "    r_obj = r_data[y_pix_min:y_pix_max, x_pix_min:x_pix_max]\n",
    "    g_obj = g_data[y_pix_min:y_pix_max, x_pix_min:x_pix_max]\n",
    "    b_obj = b_data[y_pix_min:y_pix_max, x_pix_min:x_pix_max]\n",
    "    rgb_data = numpy.stack([r_obj, g_obj, b_obj], 2)\n",
    "    rgb_data = numpy.flipud(rgb_data)\n",
    "    \n",
    "    return rgb_data"
   ]
  },
  {
   "cell_type": "code",
   "execution_count": null,
   "metadata": {},
   "outputs": [],
   "source": [
    "obj = 'S7'\n",
    "obj_info = sample.loc[obj]\n",
    "rgb_data = cut_obj(3, obj_info)"
   ]
  },
  {
   "cell_type": "code",
   "execution_count": null,
   "metadata": {},
   "outputs": [],
   "source": [
    "rgb_data = tensorflow.image.resize(\n",
    "    images=numpy.array([rgb_data]),\n",
    "    size=[256, 256],\n",
    "    method='bilinear',\n",
    "    preserve_aspect_ratio=True,\n",
    ")\n",
    "\n",
    "im = PIL.Image.fromarray(numpy.uint8(rgb_data[0]))\n",
    "print(obj_info)\n",
    "im"
   ]
  },
  {
   "cell_type": "markdown",
   "metadata": {},
   "source": [
    "## 以下、試行錯誤の結果"
   ]
  },
  {
   "cell_type": "markdown",
   "metadata": {},
   "source": [
    "## get_sample_table(汚い関数)で Data Set のテーブルを取得 & RGB FITS への Path 取得"
   ]
  },
  {
   "cell_type": "code",
   "execution_count": null,
   "metadata": {},
   "outputs": [],
   "source": [
    "sample = data_utils.get_sample_table()\n",
    "data_path = pathlib.Path('~/jupyter/spitzer_bubble/data/interim/gal').expanduser()"
   ]
  },
  {
   "cell_type": "markdown",
   "metadata": {},
   "source": [
    "## 天体名を指定して RGB の HDU を取得 & data 取り出し"
   ]
  },
  {
   "cell_type": "code",
   "execution_count": null,
   "metadata": {},
   "outputs": [],
   "source": [
    "obj = 'S10'\n",
    "dir_ = sample.loc[:, 'directory'][obj]\n",
    "files =['r.fits', 'g.fits', 'b.fits']\n",
    "hdus = [astropy.io.fits.open(data_path/dir_/file)[0] for file in files]\n",
    "\n",
    "r_data = hdus[0].data\n",
    "g_data = hdus[1].data\n",
    "b_data = hdus[2].data\n",
    "\n",
    "# r_data = numpy.where(r_data>255, 255, r_data)\n",
    "# r_data = numpy.where(r_data<0, 0, r_data)\n",
    "# g_data = numpy.where(g_data>255, 255, g_data)\n",
    "# g_data = numpy.where(g_data<0, 0, g_data)\n",
    "# b_data = numpy.where(b_data>255, 255, b_data)\n",
    "# b_data = numpy.where(b_data<0, 0, b_data)\n",
    "\n",
    "#rgb_data = numpy.stack([r_data, g_data, b_data], 2)"
   ]
  },
  {
   "cell_type": "markdown",
   "metadata": {},
   "source": [
    "## header と天体の座標から nparray の pixcel 範囲を計算"
   ]
  },
  {
   "cell_type": "code",
   "execution_count": null,
   "metadata": {},
   "outputs": [],
   "source": [
    "margin = 3\n",
    "\n",
    "header = hdus[0].header\n",
    "w = astropy.wcs.WCS(header)\n",
    "\n",
    "l_min = sample.loc[obj]['l'] - margin*sample.loc[obj]['Rout']/60\n",
    "b_min = sample.loc[obj]['b'] - margin*sample.loc[obj]['Rout']/60\n",
    "l_max = sample.loc[obj]['l'] + margin*sample.loc[obj]['Rout']/60\n",
    "b_max = sample.loc[obj]['b'] + margin*sample.loc[obj]['Rout']/60\n",
    "x_pix_min, y_pix_min = w.all_world2pix(l_max, b_min, 0)\n",
    "x_pix_max, y_pix_max = w.all_world2pix(l_min, b_max, 0)\n",
    "\n",
    "R_pix = int(((x_pix_max - x_pix_min)/2 + (y_pix_max - y_pix_min)/2)/2)\n",
    "x_pix, y_pix = w.all_world2pix(sample.loc[obj]['l'], sample.loc[obj]['b'], 0)\n",
    "\n",
    "x_pix_min = int(numpy.round(x_pix)) - R_pix\n",
    "x_pix_max = int(numpy.round(x_pix)) + R_pix\n",
    "y_pix_min = int(numpy.round(y_pix)) - R_pix\n",
    "y_pix_max = int(numpy.round(y_pix)) + R_pix\n",
    "\n",
    "if x_pix_min < 0:\n",
    "    x_pix_min = 0\n",
    "    pass\n",
    "if y_pix_min < 0:\n",
    "    y_pix_min = 0\n",
    "    pass"
   ]
  },
  {
   "cell_type": "code",
   "execution_count": null,
   "metadata": {},
   "outputs": [],
   "source": [
    "r_obj = r_data[y_pix_min:y_pix_max, x_pix_min:x_pix_max]\n",
    "g_obj = g_data[y_pix_min:y_pix_max, x_pix_min:x_pix_max]\n",
    "b_obj = b_data[y_pix_min:y_pix_max, x_pix_min:x_pix_max]\n",
    "\n",
    "rgb_data = numpy.stack([r_obj, g_obj, b_obj], 2)\n",
    "rgb_data = numpy.flipud(rgb_data)"
   ]
  },
  {
   "cell_type": "code",
   "execution_count": null,
   "metadata": {},
   "outputs": [],
   "source": [
    "rgb_data = tensorflow.image.resize(\n",
    "    images=numpy.array([rgb_data]),\n",
    "    size=[256, 256],\n",
    "    method='bilinear',\n",
    "    preserve_aspect_ratio=True,\n",
    ")\n",
    "im = PIL.Image.fromarray(numpy.uint8(rgb_data[0]))\n",
    "im"
   ]
  },
  {
   "cell_type": "code",
   "execution_count": null,
   "metadata": {},
   "outputs": [],
   "source": []
  },
  {
   "cell_type": "code",
   "execution_count": null,
   "metadata": {},
   "outputs": [],
   "source": [
    "def calc_pix(margin, obj_info):\n",
    "    if type(obj_info) == pandas.core.series.Series:\n",
    "        obj_info = dict(obj_info)\n",
    "        pass\n",
    "    path = pathlib.Path('~/jupyter/spitzer_bubble/data/interim/gal').expanduser()\n",
    "    dir_ = path/obj_info['directory']\n",
    "    \n",
    "    hdu = astropy.io.fits.open(dir_/'g.fits')[0]\n",
    "    header = hdu.header\n",
    "    w = astropy.wcs.WCS(header)\n",
    "\n",
    "    l_min = obj_info['l'] - margin*obj_info['Rout']/60\n",
    "    b_min = obj_info['b'] - margin*obj_info['Rout']/60\n",
    "    l_max = obj_info['l'] + margin*obj_info['Rout']/60\n",
    "    b_max = obj_info['b'] + margin*obj_info['Rout']/60\n",
    "    x_pix_min, y_pix_min = w.all_world2pix(l_max, b_min, 0)\n",
    "    x_pix_max, y_pix_max = w.all_world2pix(l_min, b_max, 0)\n",
    "\n",
    "    R_pix = int(((x_pix_max - x_pix_min)/2 + (y_pix_max - y_pix_min)/2)/2)\n",
    "    x_pix, y_pix = w.all_world2pix(obj_info['l'], obj_info['b'], 0)\n",
    "\n",
    "    x_pix_min = max(0, int(numpy.round(x_pix)) - R_pix)\n",
    "    x_pix_max = max(0, int(numpy.round(x_pix)) + R_pix)\n",
    "    y_pix_min = max(0, int(numpy.round(y_pix)) - R_pix)\n",
    "    y_pix_max = max(0, int(numpy.round(y_pix)) + R_pix)\n",
    "    \n",
    "    return [x_pix_min, x_pix_max], [y_pix_min, y_pix_max]"
   ]
  },
  {
   "cell_type": "code",
   "execution_count": null,
   "metadata": {},
   "outputs": [],
   "source": [
    "sample = data_utils.get_sample_table()"
   ]
  },
  {
   "cell_type": "code",
   "execution_count": null,
   "metadata": {},
   "outputs": [],
   "source": [
    "obj = 'F30'\n",
    "obj_info = sample.loc[obj]\n",
    "rgb_data = cut_obj(3, obj_info)"
   ]
  },
  {
   "cell_type": "code",
   "execution_count": null,
   "metadata": {},
   "outputs": [],
   "source": [
    "rgb_data = tensorflow.image.resize(\n",
    "    images=numpy.array([rgb_data]),\n",
    "    size=[256, 256],\n",
    "    method='bilinear',\n",
    "    preserve_aspect_ratio=True,\n",
    ")\n",
    "\n",
    "im = PIL.Image.fromarray(numpy.uint8(rgb_data[0]))\n",
    "im"
   ]
  },
  {
   "cell_type": "code",
   "execution_count": null,
   "metadata": {},
   "outputs": [],
   "source": []
  }
 ],
 "metadata": {
  "kernelspec": {
   "display_name": "Python 3",
   "language": "python",
   "name": "python3"
  },
  "language_info": {
   "codemirror_mode": {
    "name": "ipython",
    "version": 3
   },
   "file_extension": ".py",
   "mimetype": "text/x-python",
   "name": "python",
   "nbconvert_exporter": "python",
   "pygments_lexer": "ipython3",
   "version": "3.6.9"
  }
 },
 "nbformat": 4,
 "nbformat_minor": 4
}
