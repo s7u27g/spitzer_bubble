{
 "cells": [
  {
   "cell_type": "markdown",
   "metadata": {},
   "source": [
    "# Data Set を作ります。"
   ]
  },
  {
   "cell_type": "code",
   "execution_count": null,
   "metadata": {},
   "outputs": [],
   "source": [
    "import numpy\n",
    "import tensorflow\n",
    "import pathlib\n",
    "import sys\n",
    "from PIL import Image\n",
    "\n",
    "sys.path.append('..')\n",
    "from src.utils import cut_data\n",
    "from src.visualization import visualize"
   ]
  },
  {
   "cell_type": "code",
   "execution_count": null,
   "metadata": {},
   "outputs": [],
   "source": [
    "# bad datas\n",
    "\n",
    "# 一色丸々抜けてるシリーズ\n",
    "bad_bub1 = [\n",
    "    'S59'  , 'S77'  , 'CS89' ,\n",
    "]\n",
    "\n",
    "# 24um で大幅に中心がぬけているシリーズ\n",
    "bad_bub2 = [\n",
    "    'CN109', 'CN113', 'CN120', 'CN135', 'CN145',\n",
    "    'CN148', 'N10'  , 'N39'  , 'N52'  , 'N101' ,\n",
    "    'CS81' , 'CS82' , 'CS83' , 'CS84' , 'CN8'  ,\n",
    "    'CS102', 'CS103', 'CS112', 'S6'   , 'CS90' ,\n",
    "    'S144' , 'S149' , 'S155' , 'S181' , 'CN7'  ,\n",
    "    'CN14' , 'CN16' , 'CS8'  , 'CS13' , 'CN78' ,\n",
    "    'CN102', 'CS55' , 'CS70' , 'S153' , 'S48'  ,\n",
    "    'S51'  ,\n",
    "]\n",
    "\n",
    "# 色やばいやつ\n",
    "bad_bub3 = [\n",
    "    'CN143', 'CS85' , 'CS86' , 'CS88' , 'S154' ,\n",
    "]\n",
    "\n",
    "# 端にあることでリング部のデータないやつら\n",
    "bad_bub4 = [\n",
    "    'N5'   , 'S12'  , 'S61'  , 'S74'  , 'S185' ,\n",
    "]\n",
    "\n",
    "# サイズが大きい + データの端に位置しているせいで、中心がずれたと思われるやつら\n",
    "bad_bub5 = [\n",
    "    'N63'  , 'N109' ,\n",
    "]\n",
    "\n",
    "bad_bub = bad_bub1 + bad_bub2 + bad_bub3 + bad_bub4 + bad_bub5"
   ]
  },
  {
   "cell_type": "code",
   "execution_count": null,
   "metadata": {},
   "outputs": [],
   "source": [
    "# DataSet作成用\n",
    "sdf = cut_data.get_spitzer_df(\n",
    "    path = '~/jupyter/spitzer_bubble/data/interim/gal',\n",
    "    fac  = 0.1,            # Ring に対して non-Ring を何倍生成するか\n",
    "    b    = [-0.8, 0.8],   # non-Ring の b の中心座標範囲 (広くしすぎるとはみ出る可能性があがる)\n",
    "    R    = [0.1, 20],     # Rout の範囲を決める\n",
    "    seed = 1              # Seed 値 (指定すると、毎回同じ non-Ring データを生成できる)\n",
    ")\n",
    "\n",
    "sdf.drop_obj(bad_bub)\n",
    "sdf.df\n",
    "\n",
    "# dir_ = sdf.get_dir()\n",
    "# dir_"
   ]
  },
  {
   "cell_type": "code",
   "execution_count": null,
   "metadata": {},
   "outputs": [],
   "source": [
    "# 生データの pd を クロスバリデーション用に分割\n",
    "from sklearn.model_selection import StratifiedKFold\n",
    "\n",
    "fold_num = 5\n",
    "seed = 7\n",
    "numpy.random.seed(seed)\n",
    "kfold = StratifiedKFold(n_splits=fold_num, shuffle=True, random_state=seed)\n",
    "\n",
    "X = sdf.df.copy()\n",
    "Y = numpy.array(sdf.df['label'].tolist())\n",
    "\n",
    "x_train_raw_list = []\n",
    "x_test_raw_list = []\n",
    "y_train_raw_list = []\n",
    "y_test_raw_list = []\n",
    "\n",
    "for train_index, test_index in kfold.split(X,Y):\n",
    "    # 新たに index を追加 + 古い index を削除も同時に行う\n",
    "    x_train_raw_list.append(X.iloc[train_index])#.reset_index())\n",
    "    x_test_raw_list.append(X.iloc[test_index])#.reset_index())\n",
    "    y_train_raw_list.append(Y[train_index])\n",
    "    y_test_raw_list.append(Y[test_index])"
   ]
  },
  {
   "cell_type": "code",
   "execution_count": null,
   "metadata": {},
   "outputs": [],
   "source": [
    "train = x_train_raw_list[0]\n",
    "test = x_test_raw_list[0]"
   ]
  },
  {
   "cell_type": "code",
   "execution_count": null,
   "metadata": {},
   "outputs": [],
   "source": [
    "sdf.df = train\n",
    "\n",
    "datas = []\n",
    "infos = []\n",
    "\n",
    "for dir_ in sdf.get_dir():\n",
    "    cut_tb = sdf.get_cut_table(dir_, 1.5)\n",
    "    for obj in cut_tb.get_obj():\n",
    "        data, info = cut_tb[obj]\n",
    "        \n",
    "        data = tensorflow.image.resize(\n",
    "            images=data, \n",
    "            size=[64, 64], \n",
    "            method='bilinear',\n",
    "        )\n",
    "        \n",
    "        datas.append(data)\n",
    "        infos.append(info)\n",
    "\n",
    "x_train = numpy.concatenate(datas)\n",
    "train_infos = infos\n",
    "y_train = numpy.array([info['label'] for info in train_infos])"
   ]
  },
  {
   "cell_type": "code",
   "execution_count": null,
   "metadata": {},
   "outputs": [],
   "source": [
    "sdf.df = test\n",
    "\n",
    "datas = []\n",
    "infos = []\n",
    "\n",
    "for dir_ in sdf.get_dir():\n",
    "    cut_tb = sdf.get_cut_table(dir_, 1.5)\n",
    "    for obj in cut_tb.get_obj():\n",
    "        data, info = cut_tb[obj]\n",
    "        \n",
    "        data = tensorflow.image.resize(\n",
    "            images=data, \n",
    "            size=[64, 64], \n",
    "            method='bilinear',\n",
    "        )\n",
    "        \n",
    "        datas.append(data)\n",
    "        infos.append(info)\n",
    "\n",
    "x_test = numpy.concatenate(datas)\n",
    "test_infos = infos\n",
    "y_test = numpy.array([info['label'] for info in test_infos])"
   ]
  },
  {
   "cell_type": "code",
   "execution_count": null,
   "metadata": {},
   "outputs": [],
   "source": [
    "# img = tensorflow.image.resize(\n",
    "#     images=numpy.array([data]), \n",
    "#     size=[512, 512], \n",
    "#     method='gaussian',\n",
    "# )\n",
    "# img = numpy.where(img>255, 255, img)\n",
    "# im = Image.fromarray(numpy.uint8(img[0]))\n",
    "# im"
   ]
  },
  {
   "cell_type": "code",
   "execution_count": null,
   "metadata": {},
   "outputs": [],
   "source": [
    "# img = tensorflow.image.resize(\n",
    "#     images=numpy.array([data]), \n",
    "#     size=[512, 512], \n",
    "#     method='gaussian',\n",
    "# )\n",
    "# img = numpy.where(img>255, 255, img)\n",
    "# img = tensorflow.image.random_crop(img[0], [400, 400, 3])\n",
    "# im = Image.fromarray(numpy.uint8(img))\n",
    "# im"
   ]
  },
  {
   "cell_type": "code",
   "execution_count": null,
   "metadata": {},
   "outputs": [],
   "source": [
    "# def znormalize(data, each_color=True):\n",
    "#     f = lambda x: ((x-x.mean())/numpy.std(x)+1)*(255/2) \n",
    "    \n",
    "#     if each_color:\n",
    "#         rgb = [data[:, :, i] for i in range(data.shape[2])]\n",
    "#         data = numpy.stack([f(data) for data in rgb], axis=2)\n",
    "#         pass    \n",
    "    \n",
    "#     if not each_color:\n",
    "#         data = f(data)\n",
    "#         pass\n",
    "    \n",
    "#     return data"
   ]
  },
  {
   "cell_type": "code",
   "execution_count": null,
   "metadata": {},
   "outputs": [],
   "source": [
    "# mkdir の機能を加える必要あり\n",
    "save_dir = ''\n",
    "\n",
    "save_path = pathlib.Path('../data/processed/dataset')\n",
    "numpy.save(save_path/save_dir/'x_train.npy', x_train)\n",
    "numpy.save(save_path/save_dir/'y_train.npy', y_train)\n",
    "numpy.save(save_path/save_dir/'x_test.npy', x_test)\n",
    "numpy.save(save_path/save_dir/'y_test.npy', y_test)"
   ]
  },
  {
   "cell_type": "code",
   "execution_count": null,
   "metadata": {},
   "outputs": [],
   "source": []
  },
  {
   "cell_type": "markdown",
   "metadata": {},
   "source": [
    "# Data を見たりしたい"
   ]
  },
  {
   "cell_type": "code",
   "execution_count": null,
   "metadata": {},
   "outputs": [],
   "source": [
    "# 良いRingデータのみ抜き出すやつ\n",
    "sdf = cut_data.get_spitzer_df(\n",
    "    path = '~/jupyter/spitzer_bubble/data/interim/gal',\n",
    "    fac  = 1,             # Ring に対して non-Ring を何倍生成するか\n",
    "    b    = [-0.8, 0.8],   # non-Ring の b の中心座標範囲 (広くしすぎるとはみ出る可能性があがる)\n",
    "    R    = [0.1, 20],     # Rout の範囲を決める\n",
    "    seed = 1              # Seed 値 (指定すると、毎回同じ non-Ring データを生成できる)\n",
    ")\n",
    "\n",
    "sdf.drop_obj(bad_bub)\n",
    "sdf.drop_label(0)\n",
    "sdf.df\n",
    "\n",
    "# dir_ = sdf.get_dir()\n",
    "# dir_"
   ]
  },
  {
   "cell_type": "code",
   "execution_count": null,
   "metadata": {},
   "outputs": [],
   "source": [
    "# 悪いRingデータのみ抜き出すやつ\n",
    "sdf = cut_data.get_spitzer_df(\n",
    "    path = '~/jupyter/spitzer_bubble/data/interim/gal',\n",
    "    fac  = 1,             # Ring に対して non-Ring を何倍生成するか\n",
    "    b    = [-0.8, 0.8],   # non-Ring の b の中心座標範囲 (広くしすぎるとはみ出る可能性があがる)\n",
    "    R    = [0.1, 20],     # Rout の範囲を決める\n",
    "    seed = 1              # Seed 値 (指定すると、毎回同じ non-Ring データを生成できる)\n",
    ")\n",
    "\n",
    "sdf.drop_label(0)\n",
    "sdf.select_obj(bad_data)\n",
    "\n",
    "# dir_ = sdf.get_dir()\n",
    "# dir_"
   ]
  },
  {
   "cell_type": "code",
   "execution_count": null,
   "metadata": {},
   "outputs": [],
   "source": [
    "# Rout 10 ~ 20 の間のやつ\n",
    "sdf = cut_data.get_spitzer_df(\n",
    "    path = '~/jupyter/spitzer_bubble/data/interim/gal',\n",
    "    fac  = 1,             # Ring に対して non-Ring を何倍生成するか\n",
    "    b    = [-0.8, 0.8],   # non-Ring の b の中心座標範囲 (広くしすぎるとはみ出る可能性があがる)\n",
    "    R    = [0.1, 20],     # Rout の範囲を決める\n",
    "    seed = 1              # Seed 値 (指定すると、毎回同じ non-Ring データを生成できる)\n",
    ")\n",
    "\n",
    "sdf.drop_label(0)\n",
    "sdf.select_obj(['N69', 'N109', 'S13', 'CS61', 'N63', 'N81', 'N107'])\n",
    "\n",
    "# dir_ = sdf.get_dir()\n",
    "# dir_"
   ]
  },
  {
   "cell_type": "code",
   "execution_count": null,
   "metadata": {},
   "outputs": [],
   "source": [
    "sdf.df"
   ]
  },
  {
   "cell_type": "code",
   "execution_count": null,
   "metadata": {},
   "outputs": [],
   "source": [
    "datas = []\n",
    "infos = []\n",
    "for dir_ in sdf.get_dir():\n",
    "    cut_tb = sdf.get_cut_table(dir_)\n",
    "    for obj in cut_tb.get_obj():\n",
    "        data, info = cut_tb[obj]\n",
    "        #data = znormalize(data)\n",
    "        data = tensorflow.image.resize(\n",
    "            images=data, \n",
    "            size=[512, 512], \n",
    "            method='gaussian',\n",
    "        )\n",
    "\n",
    "        datas.append(data)\n",
    "        infos.append(info)\n",
    "        \n",
    "datas = numpy.concatenate(datas)\n",
    "datas = numpy.where(datas>255, 255, datas)"
   ]
  },
  {
   "cell_type": "code",
   "execution_count": null,
   "metadata": {},
   "outputs": [],
   "source": [
    "imgs = tensorflow.image.resize(\n",
    "    images=datas, \n",
    "    size=[128, 128], \n",
    "    method='gaussian',\n",
    ")"
   ]
  },
  {
   "cell_type": "code",
   "execution_count": null,
   "metadata": {},
   "outputs": [],
   "source": [
    "visualize.data_view(20, imgs, infos)"
   ]
  },
  {
   "cell_type": "code",
   "execution_count": null,
   "metadata": {},
   "outputs": [],
   "source": []
  },
  {
   "cell_type": "markdown",
   "metadata": {},
   "source": [
    "## 以下、試行錯誤の結果"
   ]
  },
  {
   "cell_type": "markdown",
   "metadata": {},
   "source": [
    "## get_sample_table(汚い関数)で Data Set のテーブルを取得 & RGB FITS への Path 取得"
   ]
  },
  {
   "cell_type": "code",
   "execution_count": null,
   "metadata": {},
   "outputs": [],
   "source": [
    "sample = data_utils.get_sample_table()\n",
    "data_path = pathlib.Path('~/jupyter/spitzer_bubble/data/interim/gal').expanduser()"
   ]
  },
  {
   "cell_type": "markdown",
   "metadata": {},
   "source": [
    "## 天体名を指定して RGB の HDU を取得 & data 取り出し"
   ]
  },
  {
   "cell_type": "code",
   "execution_count": null,
   "metadata": {},
   "outputs": [],
   "source": [
    "obj = 'S10'\n",
    "dir_ = sample.loc[:, 'directory'][obj]\n",
    "files =['r.fits', 'g.fits', 'b.fits']\n",
    "hdus = [astropy.io.fits.open(data_path/dir_/file)[0] for file in files]\n",
    "\n",
    "r_data = hdus[0].data\n",
    "g_data = hdus[1].data\n",
    "b_data = hdus[2].data\n",
    "\n",
    "# r_data = numpy.where(r_data>255, 255, r_data)\n",
    "# r_data = numpy.where(r_data<0, 0, r_data)\n",
    "# g_data = numpy.where(g_data>255, 255, g_data)\n",
    "# g_data = numpy.where(g_data<0, 0, g_data)\n",
    "# b_data = numpy.where(b_data>255, 255, b_data)\n",
    "# b_data = numpy.where(b_data<0, 0, b_data)\n",
    "\n",
    "#rgb_data = numpy.stack([r_data, g_data, b_data], 2)"
   ]
  },
  {
   "cell_type": "markdown",
   "metadata": {},
   "source": [
    "## header と天体の座標から nparray の pixcel 範囲を計算"
   ]
  },
  {
   "cell_type": "code",
   "execution_count": null,
   "metadata": {},
   "outputs": [],
   "source": [
    "margin = 3\n",
    "\n",
    "header = hdus[0].header\n",
    "w = astropy.wcs.WCS(header)\n",
    "\n",
    "l_min = sample.loc[obj]['l'] - margin*sample.loc[obj]['Rout']/60\n",
    "b_min = sample.loc[obj]['b'] - margin*sample.loc[obj]['Rout']/60\n",
    "l_max = sample.loc[obj]['l'] + margin*sample.loc[obj]['Rout']/60\n",
    "b_max = sample.loc[obj]['b'] + margin*sample.loc[obj]['Rout']/60\n",
    "x_pix_min, y_pix_min = w.all_world2pix(l_max, b_min, 0)\n",
    "x_pix_max, y_pix_max = w.all_world2pix(l_min, b_max, 0)\n",
    "\n",
    "R_pix = int(((x_pix_max - x_pix_min)/2 + (y_pix_max - y_pix_min)/2)/2)\n",
    "x_pix, y_pix = w.all_world2pix(sample.loc[obj]['l'], sample.loc[obj]['b'], 0)\n",
    "\n",
    "x_pix_min = int(numpy.round(x_pix)) - R_pix\n",
    "x_pix_max = int(numpy.round(x_pix)) + R_pix\n",
    "y_pix_min = int(numpy.round(y_pix)) - R_pix\n",
    "y_pix_max = int(numpy.round(y_pix)) + R_pix\n",
    "\n",
    "if x_pix_min < 0:\n",
    "    x_pix_min = 0\n",
    "    pass\n",
    "if y_pix_min < 0:\n",
    "    y_pix_min = 0\n",
    "    pass"
   ]
  },
  {
   "cell_type": "code",
   "execution_count": null,
   "metadata": {},
   "outputs": [],
   "source": [
    "r_obj = r_data[y_pix_min:y_pix_max, x_pix_min:x_pix_max]\n",
    "g_obj = g_data[y_pix_min:y_pix_max, x_pix_min:x_pix_max]\n",
    "b_obj = b_data[y_pix_min:y_pix_max, x_pix_min:x_pix_max]\n",
    "\n",
    "rgb_data = numpy.stack([r_obj, g_obj, b_obj], 2)\n",
    "rgb_data = numpy.flipud(rgb_data)"
   ]
  },
  {
   "cell_type": "code",
   "execution_count": null,
   "metadata": {},
   "outputs": [],
   "source": [
    "rgb_data = tensorflow.image.resize(\n",
    "    images=numpy.array([rgb_data]),\n",
    "    size=[256, 256],\n",
    "    method='bilinear',\n",
    "    preserve_aspect_ratio=True,\n",
    ")\n",
    "im = Image.fromarray(numpy.uint8(rgb_data[0]))\n",
    "im"
   ]
  },
  {
   "cell_type": "code",
   "execution_count": null,
   "metadata": {},
   "outputs": [],
   "source": [
    "# 2020/03/27 追記\n",
    "# cut_data の中にデータを正方化するメソッドを追加\n",
    "\n",
    "def padding_obj(data, info):\n",
    "    pad = data.shape[0] - data.shape[1]\n",
    "    if pad > 0 and info['x_pix_min'] != 0:\n",
    "        data = numpy.pad(data, [(0, 0),(0, pad), (0, 0)])\n",
    "        pass\n",
    "    \n",
    "    if pad > 0 and info['x_pix_min'] == 0:\n",
    "        data = numpy.pad(data, [(0, 0),(pad, 0), (0, 0)])\n",
    "        pass\n",
    "\n",
    "    if pad < 0 and info['y_pix_min'] == 0:\n",
    "        data = numpy.pad(data, [(0, abs(pad)),(0, 0), (0, 0)])\n",
    "        pass\n",
    "    \n",
    "    if pad < 0 and info['y_pix_min'] != 0:\n",
    "        data = numpy.pad(data, [(abs(pad), 0),(0, 0), (0, 0)])\n",
    "        pass\n",
    "    \n",
    "    return data"
   ]
  },
  {
   "cell_type": "code",
   "execution_count": null,
   "metadata": {},
   "outputs": [],
   "source": []
  }
 ],
 "metadata": {
  "kernelspec": {
   "display_name": "Python 3",
   "language": "python",
   "name": "python3"
  },
  "language_info": {
   "codemirror_mode": {
    "name": "ipython",
    "version": 3
   },
   "file_extension": ".py",
   "mimetype": "text/x-python",
   "name": "python",
   "nbconvert_exporter": "python",
   "pygments_lexer": "ipython3",
   "version": "3.6.9"
  }
 },
 "nbformat": 4,
 "nbformat_minor": 4
}
