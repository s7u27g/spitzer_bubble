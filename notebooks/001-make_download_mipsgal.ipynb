{
 "cells": [
  {
   "cell_type": "markdown",
   "metadata": {},
   "source": [
    "# MIPSGAL のデータを一括ダウンロード\n",
    "- 引数1: int 型の 0-359 数字 (間に観測対象外のものも含まれるため注意)\n",
    "- 引数2: str 型の 'p' か 'n'\n",
    "- 引数3: 保存場所の Path"
   ]
  },
  {
   "cell_type": "code",
   "execution_count": 1,
   "metadata": {},
   "outputs": [],
   "source": [
    "import sys\n",
    "import urllib.request\n",
    "\n",
    "sys.path.append('..')"
   ]
  },
  {
   "cell_type": "markdown",
   "metadata": {},
   "source": [
    "### 指定したファイルをダウンロード可能か試験"
   ]
  },
  {
   "cell_type": "code",
   "execution_count": 2,
   "metadata": {},
   "outputs": [],
   "source": [
    "save_path = '/root/data/science/spitzer/mipsgal/'\n",
    "url = 'https://irsa.ipac.caltech.edu/data/SPITZER/MIPSGAL/images/mosaics24/'\n",
    "file_name = 'MG0000n005_024.fits'\n",
    "with urllib.request.urlopen(url+file_name) as u:\n",
    "    with open(save_path+file_name, 'bw') as o:\n",
    "        o.write(u.read())"
   ]
  },
  {
   "cell_type": "markdown",
   "metadata": {},
   "source": [
    "### 以下、作成した関数および使用例"
   ]
  },
  {
   "cell_type": "code",
   "execution_count": 3,
   "metadata": {},
   "outputs": [],
   "source": [
    "def download_mipsgal_data(l, b, save_path='/root/data/science/spitzer/mipsgal/'):\n",
    "    '''\n",
    "    l must be int.\n",
    "    b must be str, 'p' or 'n'.\n",
    "    '''\n",
    "    url = 'https://irsa.ipac.caltech.edu/data/SPITZER/MIPSGAL/images/mosaics24/'\n",
    "    l = str(l)+'0'\n",
    "    while len(l)!=4:\n",
    "        l = '0'+l\n",
    "        \n",
    "    file_name = 'MG'+l+b+'005_024.fits'\n",
    "    with urllib.request.urlopen(url+file_name) as u:\n",
    "        with open(save_path+file_name, 'bw') as o:\n",
    "            o.write(u.read())\n",
    "            \n",
    "    return"
   ]
  },
  {
   "cell_type": "code",
   "execution_count": 4,
   "metadata": {},
   "outputs": [],
   "source": [
    "l = [i for i in range(0, 66)]\n",
    "for i in l:\n",
    "    download_mipsgal_data(i, 'p')\n",
    "    download_mipsgal_data(i, 'n')\n",
    "    \n",
    "l = [i for i in range(296, 359)]\n",
    "for i in l:\n",
    "    download_mipsgal_data(i, 'p')\n",
    "    download_mipsgal_data(i, 'n')"
   ]
  },
  {
   "cell_type": "markdown",
   "metadata": {},
   "source": [
    "### /src/utils/data_utils.py に関数を追加した。"
   ]
  },
  {
   "cell_type": "code",
   "execution_count": 5,
   "metadata": {},
   "outputs": [],
   "source": [
    "from src.utils import  data_utils\n",
    "download_mipsgal_data(0, 'p')"
   ]
  },
  {
   "cell_type": "code",
   "execution_count": null,
   "metadata": {},
   "outputs": [],
   "source": []
  }
 ],
 "metadata": {
  "kernelspec": {
   "display_name": "Python 3",
   "language": "python",
   "name": "python3"
  },
  "language_info": {
   "codemirror_mode": {
    "name": "ipython",
    "version": 3
   },
   "file_extension": ".py",
   "mimetype": "text/x-python",
   "name": "python",
   "nbconvert_exporter": "python",
   "pygments_lexer": "ipython3",
   "version": "3.6.9"
  }
 },
 "nbformat": 4,
 "nbformat_minor": 4
}
