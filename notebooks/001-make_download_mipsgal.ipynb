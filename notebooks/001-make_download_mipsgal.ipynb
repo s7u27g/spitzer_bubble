{
 "cells": [
  {
   "cell_type": "markdown",
   "metadata": {},
   "source": [
    "# [MIPSGAL](https://irsa.ipac.caltech.edu/data/SPITZER/MIPSGAL/) のデータを一括ダウンロード\n",
    "- 引数1: int 型の 0-359 数字 (間に観測対象外のものも含まれるため注意)\n",
    "- 引数2: str 型の 'p' か 'n'\n",
    "- 引数3: str 型で保存場所の Path"
   ]
  },
  {
   "cell_type": "code",
   "execution_count": null,
   "metadata": {},
   "outputs": [],
   "source": [
    "import sys\n",
    "import pathlib\n",
    "import numpy\n",
    "import astropy.io.fits\n",
    "import urllib.request\n",
    "\n",
    "sys.path.append('..')"
   ]
  },
  {
   "cell_type": "markdown",
   "metadata": {},
   "source": [
    "### 指定したファイルをダウンロード可能か試験"
   ]
  },
  {
   "cell_type": "code",
   "execution_count": null,
   "metadata": {},
   "outputs": [],
   "source": [
    "save_path = pathlib.Path('~/data/spitzer/mipsgal/').expanduser()\n",
    "url = 'https://irsa.ipac.caltech.edu/data/SPITZER/MIPSGAL/images/mosaics24/'\n",
    "file_name = 'MG0000n005_024.fits'\n",
    "with urllib.request.urlopen(url+file_name) as u:\n",
    "    with open(save_path/file_name, 'bw') as o:\n",
    "        o.write(u.read())"
   ]
  },
  {
   "cell_type": "markdown",
   "metadata": {},
   "source": [
    "### 以下、作成した関数および使用例"
   ]
  },
  {
   "cell_type": "code",
   "execution_count": null,
   "metadata": {},
   "outputs": [],
   "source": [
    "def download_mipsgal_data(l, b, save_path):\n",
    "    '''\n",
    "    l must be int from 0 to 359.\n",
    "    b must be str, 'p' or 'n'.\n",
    "    '''\n",
    "    save_path = pathlib.Path(save_path).expanduser()\n",
    "    url = 'https://irsa.ipac.caltech.edu/data/SPITZER/MIPSGAL/images/mosaics24/'\n",
    "    l = str(l)+'0'\n",
    "    while len(l)!=4:\n",
    "        l = '0'+l\n",
    "        \n",
    "    file_name = 'MG'+l+b+'005_024.fits'\n",
    "    with urllib.request.urlopen(url+file_name) as u:\n",
    "        with open(save_path/file_name, 'bw') as o:\n",
    "            o.write(u.read())\n",
    "            \n",
    "    return\n",
    "\n",
    "# 2020/03/29 追記\n",
    "# mipsgal には 293 のデータがないので、全て 0 の fits を作り出す関数を作った。\n",
    "# download_mipsgal_data を叩いた後に使用しましょう。\n",
    "def make_mipsgal_293data(b, save_path):\n",
    "    '''\n",
    "    b must be str, 'p' or 'n'.\n",
    "    '''\n",
    "    path = pathlib.Path(save_path)    \n",
    "    file_dict = {\n",
    "        0: (path/'MG2930{}005_024.fits'.format(b)).expanduser(),\n",
    "        1: (path/'MG2940{}005_024.fits'.format(b)).expanduser(),\n",
    "        2: (path/'MG2950{}005_024.fits'.format(b)).expanduser(),\n",
    "    }\n",
    "    files = file_dict[1], file_dict[2]\n",
    "    hdus = astropy.io.fits.open(files[0])[0], astropy.io.fits.open(files[1])[0]\n",
    "    \n",
    "    header, data = hdus[0].header, hdus[0].data\n",
    "    d_l = hdus[1].header['CRVAL1'] - hdus[0].header['CRVAL1']\n",
    "    \n",
    "    header['CRVAL1'] = header['CRVAL1'] - d_l\n",
    "    header['FILENAME'] = file_dict[0].name\n",
    "    data = numpy.nan_to_num(data)\n",
    "    data = numpy.where(data>0.0, 0.0, 0.0)\n",
    "    data = data.astype(numpy.float32)\n",
    "    new_hdu = astropy.io.fits.PrimaryHDU(data, header)\n",
    "    new_hdul = astropy.io.fits.HDUList([new_hdu])\n",
    "    new_hdul.writeto(file_dict[0], overwrite=True)\n",
    "    \n",
    "    return"
   ]
  },
  {
   "cell_type": "code",
   "execution_count": null,
   "metadata": {},
   "outputs": [],
   "source": [
    "save_path = '~/data/spitzer/mipsgal/mips24'\n",
    "\n",
    "l = [i for i in range(0, 66)]\n",
    "for i in l:\n",
    "    download_mipsgal_data(i, 'p', save_path)\n",
    "    download_mipsgal_data(i, 'n', save_path)\n",
    "    \n",
    "l = [i for i in range(294, 359)]\n",
    "for i in l:\n",
    "    download_mipsgal_data(i, 'p', save_path)\n",
    "    download_mipsgal_data(i, 'n', save_path)\n",
    "\n",
    "# 2020/03/29 追記\n",
    "make_mipsgal_293data('p', save_path)\n",
    "make_mipsgal_293data('n', save_path)"
   ]
  },
  {
   "cell_type": "markdown",
   "metadata": {},
   "source": [
    "### /src/utils/data_utils.py に関数を追加した。"
   ]
  },
  {
   "cell_type": "code",
   "execution_count": null,
   "metadata": {},
   "outputs": [],
   "source": [
    "from src.utils import data_utils\n",
    "save_path = '~/data/spitzer/mipsgal/mips24'\n",
    "\n",
    "data_utils.download_mipsgal_data(295, 'p', save_path)\n",
    "data_utils.download_mipsgal_data(294, 'p', save_path)\n",
    "data_utils.download_mipsgal_data(295, 'n', save_path)\n",
    "data_utils.download_mipsgal_data(294, 'n', save_path)\n",
    "\n",
    "data_utils.make_mipsgal_293data('p', save_path)\n",
    "data_utils.make_mipsgal_293data('n', save_path)"
   ]
  },
  {
   "cell_type": "code",
   "execution_count": null,
   "metadata": {},
   "outputs": [],
   "source": []
  }
 ],
 "metadata": {
  "kernelspec": {
   "display_name": "Python 3",
   "language": "python",
   "name": "python3"
  },
  "language_info": {
   "codemirror_mode": {
    "name": "ipython",
    "version": 3
   },
   "file_extension": ".py",
   "mimetype": "text/x-python",
   "name": "python",
   "nbconvert_exporter": "python",
   "pygments_lexer": "ipython3",
   "version": "3.6.9"
  }
 },
 "nbformat": 4,
 "nbformat_minor": 4
}
